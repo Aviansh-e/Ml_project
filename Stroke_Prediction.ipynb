{
  "nbformat": 4,
  "nbformat_minor": 0,
  "metadata": {
    "colab": {
      "name": "B20EE012(stroke_pred) .ipynb",
      "provenance": [],
      "collapsed_sections": []
    },
    "kernelspec": {
      "name": "python3",
      "display_name": "Python 3"
    },
    "language_info": {
      "name": "python"
    }
  },
  "cells": [
    {
      "cell_type": "markdown",
      "source": [
        "# Model For the Stroke **Prediction** *italicized text*"
      ],
      "metadata": {
        "id": "X-kpzEEcIgQz"
      }
    },
    {
      "cell_type": "code",
      "execution_count": null,
      "metadata": {
        "id": "V1-28gdLFR6y"
      },
      "outputs": [],
      "source": [
        "import pandas as pd\n",
        "import numpy as np\n",
        "import matplotlib.pyplot as plt\n",
        "import seaborn as sns\n",
        "from sklearn.preprocessing import LabelEncoder\n",
        "from sklearn.feature_selection import SelectKBest, f_classif\n",
        "from sklearn.model_selection import train_test_split\n",
        "from sklearn.metrics import accuracy_score, f1_score,classification_report,precision_score,recall_score,confusion_matrix\n",
        "from imblearn.over_sampling import SMOTE\n",
        "from sklearn.linear_model import LogisticRegression\n",
        "from sklearn.ensemble import RandomForestClassifier\n",
        "from sklearn.svm import SVC\n",
        "from xgboost import XGBClassifier\n",
        "from sklearn.preprocessing import MinMaxScaler\n",
        "from sklearn.model_selection import cross_val_score\n",
        "from sklearn.metrics import roc_curve, roc_auc_score\n",
        "from lightgbm import LGBMClassifier\n",
        "from sklearn.model_selection import GridSearchCV\n",
        "from sklearn.neighbors import KNeighborsClassifier "
      ]
    },
    {
      "cell_type": "code",
      "source": [
        "from google.colab import drive\n",
        "drive.mount('/content/drive')"
      ],
      "metadata": {
        "colab": {
          "base_uri": "https://localhost:8080/"
        },
        "id": "QghKw_PbJ4wz",
        "outputId": "bf247b99-bae4-4f92-9cea-ceb381aa0bc5"
      },
      "execution_count": null,
      "outputs": [
        {
          "output_type": "stream",
          "name": "stdout",
          "text": [
            "Drive already mounted at /content/drive; to attempt to forcibly remount, call drive.mount(\"/content/drive\", force_remount=True).\n"
          ]
        }
      ]
    },
    {
      "cell_type": "markdown",
      "source": [
        "Extracting the data"
      ],
      "metadata": {
        "id": "LSly8-HRII0p"
      }
    },
    {
      "cell_type": "code",
      "source": [
        "data=pd.read_csv(\"/content/drive/MyDrive/healthcare-dataset-stroke-data.csv\")"
      ],
      "metadata": {
        "id": "HavGCnC7IILC"
      },
      "execution_count": null,
      "outputs": []
    },
    {
      "cell_type": "code",
      "source": [
        "data.shape"
      ],
      "metadata": {
        "colab": {
          "base_uri": "https://localhost:8080/"
        },
        "id": "fU2rZc1RJR4K",
        "outputId": "27014aa7-f257-4d59-846a-a7b7f872ab3b"
      },
      "execution_count": null,
      "outputs": [
        {
          "output_type": "execute_result",
          "data": {
            "text/plain": [
              "(5110, 12)"
            ]
          },
          "metadata": {},
          "execution_count": 102
        }
      ]
    },
    {
      "cell_type": "markdown",
      "source": [
        "# Prepeocessing the data"
      ],
      "metadata": {
        "id": "iOpsSYeQIcYA"
      }
    },
    {
      "cell_type": "markdown",
      "source": [
        "Checking for the null value"
      ],
      "metadata": {
        "id": "XmxXDV7gISwj"
      }
    },
    {
      "cell_type": "code",
      "source": [
        "print(data.isnull().sum().sum()) # yes it had\n",
        "print(data.isnull().sum())       # feature wise null value"
      ],
      "metadata": {
        "id": "NJqiaRLvIXop",
        "colab": {
          "base_uri": "https://localhost:8080/"
        },
        "outputId": "9f1c2d90-c25b-45d2-f6f7-4381671de5d3"
      },
      "execution_count": null,
      "outputs": [
        {
          "output_type": "stream",
          "name": "stdout",
          "text": [
            "201\n",
            "id                     0\n",
            "gender                 0\n",
            "age                    0\n",
            "hypertension           0\n",
            "heart_disease          0\n",
            "ever_married           0\n",
            "work_type              0\n",
            "Residence_type         0\n",
            "avg_glucose_level      0\n",
            "bmi                  201\n",
            "smoking_status         0\n",
            "stroke                 0\n",
            "dtype: int64\n"
          ]
        }
      ]
    },
    {
      "cell_type": "markdown",
      "source": [
        "Removing the null values"
      ],
      "metadata": {
        "id": "6XzshOjMI0Ry"
      }
    },
    {
      "cell_type": "code",
      "source": [
        "data[\"bmi\"].fillna(data[\"bmi\"].mean(),inplace=True) # by filling the null values with the mean of feature "
      ],
      "metadata": {
        "id": "0SXmeOGxI3pa"
      },
      "execution_count": null,
      "outputs": []
    },
    {
      "cell_type": "markdown",
      "source": [
        "# Column Description\n",
        "id: unique identifier\n",
        "gender: \"Male\", \"Female\" or \"Other\"\n",
        "age: age of the patient\n",
        "hypertension: 0 if the patient doesn't have hypertension, 1 if the patient has hypertension\n",
        "heart_disease: 0 if the patient doesn't have any heart diseases, 1 if the patient has a heart disease\n",
        "ever_married: \"No\" or \"Yes\"\n",
        "work_type: \"children\", \"Govt_jov\", \"Never_worked\", \"Private\" or \"Self-employed\"\n",
        "Residence_type: \"Rural\" or \"Urban\"\n",
        "avg_glucose_level: average glucose level in blood\n",
        "bmi: body mass index\n",
        "smoking_status: \"formerly smoked\", \"never smoked\", \"smokes\" or \"Unknown\"*\n",
        "stroke: 1 if the patient had a stroke or 0 if not *Note: \"Unknown\" in smoking_status means that the information is unavailable for this patient"
      ],
      "metadata": {
        "id": "CD6z8wUWWunO"
      }
    },
    {
      "cell_type": "markdown",
      "source": [
        "# Visualisation"
      ],
      "metadata": {
        "id": "sS5FduuNCO6k"
      }
    },
    {
      "cell_type": "markdown",
      "source": [
        "Gender Vs Stroke"
      ],
      "metadata": {
        "id": "FZ_aaK9lCvd-"
      }
    },
    {
      "cell_type": "code",
      "source": [
        "print('Unique values\\n',data['gender'].unique())\n",
        "print()\n",
        "print('Value Counts\\n',data['gender'].value_counts()) # Above codes will help to give us information about it's unique values and count of each value.\n",
        "print()\n",
        "sns.countplot(data=data,x='gender')                  # Helps to plot a count plot which will help us to see count of values in each unique category.\n",
        "sns.countplot(data=data,x='gender',hue='stroke')     # This plot will help to analyze how gender will affect chances of stroke.\n"
      ],
      "metadata": {
        "colab": {
          "base_uri": "https://localhost:8080/",
          "height": 463
        },
        "id": "KxLyBJ-kCOf9",
        "outputId": "794dde16-798d-43a1-a32e-87a527995727"
      },
      "execution_count": null,
      "outputs": [
        {
          "output_type": "stream",
          "name": "stdout",
          "text": [
            "Unique values\n",
            " ['Male' 'Female' 'Other']\n",
            "\n",
            "Value Counts\n",
            " Female    2994\n",
            "Male      2115\n",
            "Other        1\n",
            "Name: gender, dtype: int64\n",
            "\n"
          ]
        },
        {
          "output_type": "execute_result",
          "data": {
            "text/plain": [
              "<matplotlib.axes._subplots.AxesSubplot at 0x7fa94ad0d250>"
            ]
          },
          "metadata": {},
          "execution_count": 105
        },
        {
          "output_type": "display_data",
          "data": {
            "text/plain": [
              "<Figure size 432x288 with 1 Axes>"
            ],
            "image/png": "[encoded data removed]"
          },
          "metadata": {
            "needs_background": "light"
          }
        }
      ]
    },
    {
      "cell_type": "markdown",
      "source": [
        "# Age Vs Stroke\n",
        "Well here age is just not a number, it’s one of the significant or as we can say it’s a very crucial factor. Let’s analyze our data and see how much impact actual impact it has."
      ],
      "metadata": {
        "id": "HZTUin23C6gl"
      }
    },
    {
      "cell_type": "code",
      "source": [
        "data['age'].nunique()                    # Returns number of unique values in this attribute\n",
        "\n",
        "sns.displot(data['age'])                 # This will plot a distribution plot of variable age\n",
        "\n",
        "plt.figure(figsize=(15,7))\n",
        "print(\"Age and Stroke\")\n",
        "sns.boxplot(data=data,x='stroke',y='age')# Above code will plot a boxplot of variable age with respect of target attribute stroke\n"
      ],
      "metadata": {
        "colab": {
          "base_uri": "https://localhost:8080/",
          "height": 831
        },
        "id": "eKV1TbwFCt11",
        "outputId": "a077e5d6-1f1d-4675-bd5e-a458689d422e"
      },
      "execution_count": null,
      "outputs": [
        {
          "output_type": "stream",
          "name": "stdout",
          "text": [
            "Age and Stroke\n"
          ]
        },
        {
          "output_type": "execute_result",
          "data": {
            "text/plain": [
              "<matplotlib.axes._subplots.AxesSubplot at 0x7fa94b3c3fd0>"
            ]
          },
          "metadata": {},
          "execution_count": 106
        },
        {
          "output_type": "display_data",
          "data": {
            "text/plain": [
              "<Figure size 360x360 with 1 Axes>"
            ],
            "image/png": "[encoded data removed]"
          },
          "metadata": {
            "needs_background": "light"
          }
        },
        {
          "output_type": "display_data",
          "data": {
            "text/plain": [
              "<Figure size 1080x504 with 1 Axes>"
            ],
            "image/png": "[encoded data removed]"
          },
          "metadata": {
            "needs_background": "light"
          }
        }
      ]
    },
    {
      "cell_type": "markdown",
      "source": [
        "Hypertension is a condition when a person has high blood pressure. Hypertension might result in a stroke. Let’s see how it goes."
      ],
      "metadata": {
        "id": "p8CzHwnCDV1E"
      }
    },
    {
      "cell_type": "markdown",
      "source": [
        "Hypertension vs Stroke"
      ],
      "metadata": {
        "id": "bmsHzjEpEiFQ"
      }
    },
    {
      "cell_type": "code",
      "source": [
        "print('Unique values\\n',data['hypertension'].unique())\n",
        "print()\n",
        "print('Value Counts\\n',data['hypertension'].value_counts())# Above codes will help to give us information about it's unique values and count of each value.\n",
        "\n",
        "print()\n",
        "sns.countplot(data=data,x='hypertension')                 # Helps to plot a count plot which will help us to see count of values in each unique category.\n",
        "\n",
        "sns.countplot(data=data,x='hypertension',hue='stroke')    # This plot will help to analyze how gender will affect chances of stroke.\n"
      ],
      "metadata": {
        "colab": {
          "base_uri": "https://localhost:8080/",
          "height": 445
        },
        "id": "zZRq-VVZDXgc",
        "outputId": "cd091378-34fa-4782-9a2a-607b13eeffe8"
      },
      "execution_count": null,
      "outputs": [
        {
          "output_type": "stream",
          "name": "stdout",
          "text": [
            "Unique values\n",
            " [0 1]\n",
            "\n",
            "Value Counts\n",
            " 0    4612\n",
            "1     498\n",
            "Name: hypertension, dtype: int64\n",
            "\n"
          ]
        },
        {
          "output_type": "execute_result",
          "data": {
            "text/plain": [
              "<matplotlib.axes._subplots.AxesSubplot at 0x7fa94d1408d0>"
            ]
          },
          "metadata": {},
          "execution_count": 107
        },
        {
          "output_type": "display_data",
          "data": {
            "text/plain": [
              "<Figure size 432x288 with 1 Axes>"
            ],
            "image/png": "[encoded data removed]"
          },
          "metadata": {
            "needs_background": "light"
          }
        }
      ]
    },
    {
      "cell_type": "markdown",
      "source": [
        "# Heart Disease\n",
        "People having heart disease tends to have a higher risk of having a stroke if proper care is not taken."
      ],
      "metadata": {
        "id": "nLCAphCJEwhT"
      }
    },
    {
      "cell_type": "code",
      "source": [
        "print('Unique Value\\n',data['heart_disease'].unique())\n",
        "print('Value Counts\\n',data['heart_disease'].value_counts()) # Above code will return unique value for heart disease attribute and its value counts\n",
        "sns.countplot(data=data,x='heart_disease')\n",
        "sns.countplot(data=data,x='heart_disease',hue='stroke')     # Will plot a counter plot of variable heart diseases\n"
      ],
      "metadata": {
        "colab": {
          "base_uri": "https://localhost:8080/",
          "height": 410
        },
        "id": "VmlvZddaE5hN",
        "outputId": "81febdbe-0ab5-4d89-c7d4-b1bc08fa3589"
      },
      "execution_count": null,
      "outputs": [
        {
          "output_type": "stream",
          "name": "stdout",
          "text": [
            "Unique Value\n",
            " [1 0]\n",
            "Value Counts\n",
            " 0    4834\n",
            "1     276\n",
            "Name: heart_disease, dtype: int64\n"
          ]
        },
        {
          "output_type": "execute_result",
          "data": {
            "text/plain": [
              "<matplotlib.axes._subplots.AxesSubplot at 0x7fa94d167b50>"
            ]
          },
          "metadata": {},
          "execution_count": 108
        },
        {
          "output_type": "display_data",
          "data": {
            "text/plain": [
              "<Figure size 432x288 with 1 Axes>"
            ],
            "image/png": "[encoded data removed]"
          },
          "metadata": {
            "needs_background": "light"
          }
        }
      ]
    },
    {
      "cell_type": "markdown",
      "source": [
        "# Work Type\n",
        "This attribute contains data about what kind of work does the patient. Different kinds of work have different kinds of problems and challenges which can be the possible reason for excitement, thrill, stress, etc. Stress is never good for health, let’s see how this variable can affect the chances of having a stroke."
      ],
      "metadata": {
        "id": "DdkwM-uUFo8Z"
      }
    },
    {
      "cell_type": "code",
      "source": [
        "print('Unique Value\\n',data['work_type'].unique())\n",
        "print('Value Counts\\n',data['work_type'].value_counts()) # Above code will return unique values of attributes and its count\n",
        "sns.countplot(data=data,x='work_type')                   # Above code will create a count plot\n",
        "sns.countplot(data=data,x='work_type',hue='stroke')      # Above code will create a count plot with respect to stroke\n"
      ],
      "metadata": {
        "colab": {
          "base_uri": "https://localhost:8080/",
          "height": 465
        },
        "id": "3nrnmWmBFU2c",
        "outputId": "9eb19806-64b1-4542-def2-641775a3de8b"
      },
      "execution_count": null,
      "outputs": [
        {
          "output_type": "stream",
          "name": "stdout",
          "text": [
            "Unique Value\n",
            " ['Private' 'Self-employed' 'Govt_job' 'children' 'Never_worked']\n",
            "Value Counts\n",
            " Private          2925\n",
            "Self-employed     819\n",
            "children          687\n",
            "Govt_job          657\n",
            "Never_worked       22\n",
            "Name: work_type, dtype: int64\n"
          ]
        },
        {
          "output_type": "execute_result",
          "data": {
            "text/plain": [
              "<matplotlib.axes._subplots.AxesSubplot at 0x7fa94d207890>"
            ]
          },
          "metadata": {},
          "execution_count": 109
        },
        {
          "output_type": "display_data",
          "data": {
            "text/plain": [
              "<Figure size 432x288 with 1 Axes>"
            ],
            "image/png": "[encoded data removed]"
          },
          "metadata": {
            "needs_background": "light"
          }
        }
      ]
    },
    {
      "cell_type": "markdown",
      "source": [
        "# Average Glucose Level\n",
        "Tells about the average glucose level in the patient’s body. Let’s see whether this affects the chances of having a stroke"
      ],
      "metadata": {
        "id": "mRTX0AKpGCFN"
      }
    },
    {
      "cell_type": "code",
      "source": [
        "data['avg_glucose_level'].nunique()                    # Number of unique values\n",
        "sns.displot(data['avg_glucose_level'])\n",
        "plt.figure(figsize=(15,7))                             # Distribution of avg_glucose_level\n",
        "sns.boxplot(data=data,x='stroke',y='avg_glucose_level')# Avg_glucose_level and Stroke\n"
      ],
      "metadata": {
        "colab": {
          "base_uri": "https://localhost:8080/",
          "height": 812
        },
        "id": "XD02d4UvGRMG",
        "outputId": "06666b74-6f53-494b-9f19-7c7e386e1dea"
      },
      "execution_count": null,
      "outputs": [
        {
          "output_type": "execute_result",
          "data": {
            "text/plain": [
              "<matplotlib.axes._subplots.AxesSubplot at 0x7fa94d264b10>"
            ]
          },
          "metadata": {},
          "execution_count": 110
        },
        {
          "output_type": "display_data",
          "data": {
            "text/plain": [
              "<Figure size 360x360 with 1 Axes>"
            ],
            "image/png": "[encoded data removed]"
          },
          "metadata": {
            "needs_background": "light"
          }
        },
        {
          "output_type": "display_data",
          "data": {
            "text/plain": [
              "<Figure size 1080x504 with 1 Axes>"
            ],
            "image/png": "[encoded data removed]"
          },
          "metadata": {
            "needs_background": "light"
          }
        }
      ]
    },
    {
      "cell_type": "markdown",
      "source": [
        "# BMI\n",
        "Body Mass Index is a measure of body fat based on height and weight that applies to adult men and women. Let’s see how does it affect the chances of having a stroke."
      ],
      "metadata": {
        "id": "1PK-eoFsGio9"
      }
    },
    {
      "cell_type": "code",
      "source": [
        "data['bmi'].nunique()                      # Returns number of unique values in that attribute\n",
        "sns.displot(data['bmi'])\n",
        "plt.figure(figsize=(15,7))                 # Distribution of bmi\n",
        "sns.boxplot(data=data,x='stroke',y='bmi')  # BMI with respect to Stroke\n",
        "\n"
      ],
      "metadata": {
        "colab": {
          "base_uri": "https://localhost:8080/",
          "height": 812
        },
        "id": "nm7KSvK_GntB",
        "outputId": "9d764a1c-602e-43ef-ba58-c677d196c212"
      },
      "execution_count": null,
      "outputs": [
        {
          "output_type": "execute_result",
          "data": {
            "text/plain": [
              "<matplotlib.axes._subplots.AxesSubplot at 0x7fa94b4ea6d0>"
            ]
          },
          "metadata": {},
          "execution_count": 111
        },
        {
          "output_type": "display_data",
          "data": {
            "text/plain": [
              "<Figure size 360x360 with 1 Axes>"
            ],
            "image/png": "[encoded data removed]"
          },
          "metadata": {
            "needs_background": "light"
          }
        },
        {
          "output_type": "display_data",
          "data": {
            "text/plain": [
              "<Figure size 1080x504 with 1 Axes>"
            ],
            "image/png": "[encoded data removed]"
          },
          "metadata": {
            "needs_background": "light"
          }
        }
      ]
    },
    {
      "cell_type": "markdown",
      "source": [
        "# Smoking Status\n",
        "These attributes tell us whether or not the patient smokes. Smoking is injurious to health and may cause cardiac disease. Let’s see how it turns out in the case of our data."
      ],
      "metadata": {
        "id": "OA5KIFgLHE8F"
      }
    },
    {
      "cell_type": "code",
      "source": [
        "print('Unique Values\\n',data['smoking_status'].unique())\n",
        "print('Value Counts\\n',data['smoking_status'].value_counts())   # Returns unique values and its count\n",
        "sns.countplot(data=data,x='smoking_status')                     # Count plot of smoking status\n",
        "sns.countplot(data=data,x='smoking_status',hue='stroke')        # Smoking Status with respect to Stroke\n"
      ],
      "metadata": {
        "colab": {
          "base_uri": "https://localhost:8080/",
          "height": 445
        },
        "id": "tw3VsVJDHKAm",
        "outputId": "6d8bd81a-2a45-4331-9faa-2c311dcc3d7e"
      },
      "execution_count": null,
      "outputs": [
        {
          "output_type": "stream",
          "name": "stdout",
          "text": [
            "Unique Values\n",
            " ['formerly smoked' 'never smoked' 'smokes' 'Unknown']\n",
            "Value Counts\n",
            " never smoked       1892\n",
            "Unknown            1544\n",
            "formerly smoked     885\n",
            "smokes              789\n",
            "Name: smoking_status, dtype: int64\n"
          ]
        },
        {
          "output_type": "execute_result",
          "data": {
            "text/plain": [
              "<matplotlib.axes._subplots.AxesSubplot at 0x7fa94a78d550>"
            ]
          },
          "metadata": {},
          "execution_count": 112
        },
        {
          "output_type": "display_data",
          "data": {
            "text/plain": [
              "<Figure size 432x288 with 1 Axes>"
            ],
            "image/png": "[encoded data removed]"
          },
          "metadata": {
            "needs_background": "light"
          }
        }
      ]
    },
    {
      "cell_type": "code",
      "source": [
        "                    # Agian checking for the null value\n",
        "data.isnull().sum() # zero output shows us that it don't have any null value"
      ],
      "metadata": {
        "id": "pUONvlmaKfIp",
        "colab": {
          "base_uri": "https://localhost:8080/"
        },
        "outputId": "4bdc6266-c44b-4159-f7b7-bdefc30cd15e"
      },
      "execution_count": null,
      "outputs": [
        {
          "output_type": "execute_result",
          "data": {
            "text/plain": [
              "id                   0\n",
              "gender               0\n",
              "age                  0\n",
              "hypertension         0\n",
              "heart_disease        0\n",
              "ever_married         0\n",
              "work_type            0\n",
              "Residence_type       0\n",
              "avg_glucose_level    0\n",
              "bmi                  0\n",
              "smoking_status       0\n",
              "stroke               0\n",
              "dtype: int64"
            ]
          },
          "metadata": {},
          "execution_count": 113
        }
      ]
    },
    {
      "cell_type": "markdown",
      "source": [
        "# categorical Encoding"
      ],
      "metadata": {
        "id": "6t5zb8_eLCQI"
      }
    },
    {
      "cell_type": "code",
      "source": [
        "# information about each feature\n",
        "data.info()"
      ],
      "metadata": {
        "id": "-yHQlO_PNXVD",
        "colab": {
          "base_uri": "https://localhost:8080/"
        },
        "outputId": "8ec2235b-372e-4b1f-8fa5-398b2138e451"
      },
      "execution_count": null,
      "outputs": [
        {
          "output_type": "stream",
          "name": "stdout",
          "text": [
            "<class 'pandas.core.frame.DataFrame'>\n",
            "RangeIndex: 5110 entries, 0 to 5109\n",
            "Data columns (total 12 columns):\n",
            " #   Column             Non-Null Count  Dtype  \n",
            "---  ------             --------------  -----  \n",
            " 0   id                 5110 non-null   int64  \n",
            " 1   gender             5110 non-null   object \n",
            " 2   age                5110 non-null   float64\n",
            " 3   hypertension       5110 non-null   int64  \n",
            " 4   heart_disease      5110 non-null   int64  \n",
            " 5   ever_married       5110 non-null   object \n",
            " 6   work_type          5110 non-null   object \n",
            " 7   Residence_type     5110 non-null   object \n",
            " 8   avg_glucose_level  5110 non-null   float64\n",
            " 9   bmi                5110 non-null   float64\n",
            " 10  smoking_status     5110 non-null   object \n",
            " 11  stroke             5110 non-null   int64  \n",
            "dtypes: float64(3), int64(4), object(5)\n",
            "memory usage: 479.2+ KB\n"
          ]
        }
      ]
    },
    {
      "cell_type": "code",
      "source": [
        "list1=data.select_dtypes(object).columns\n",
        "list1"
      ],
      "metadata": {
        "id": "PjnDug6KK7sy",
        "colab": {
          "base_uri": "https://localhost:8080/"
        },
        "outputId": "507a0140-a9ff-4193-e406-40f163c1de6e"
      },
      "execution_count": null,
      "outputs": [
        {
          "output_type": "execute_result",
          "data": {
            "text/plain": [
              "Index(['gender', 'ever_married', 'work_type', 'Residence_type',\n",
              "       'smoking_status'],\n",
              "      dtype='object')"
            ]
          },
          "metadata": {},
          "execution_count": 115
        }
      ]
    },
    {
      "cell_type": "code",
      "source": [
        "scaler=LabelEncoder()\n",
        "for i in list1:\n",
        "  data[i]=scaler.fit_transform(data[i])"
      ],
      "metadata": {
        "id": "LCXXnTrbNmJM"
      },
      "execution_count": null,
      "outputs": []
    },
    {
      "cell_type": "code",
      "source": [
        "data.info()"
      ],
      "metadata": {
        "id": "H9596dAFN9Fr",
        "colab": {
          "base_uri": "https://localhost:8080/"
        },
        "outputId": "b7f15890-ccef-4741-804e-77f0a00e5b39"
      },
      "execution_count": null,
      "outputs": [
        {
          "output_type": "stream",
          "name": "stdout",
          "text": [
            "<class 'pandas.core.frame.DataFrame'>\n",
            "RangeIndex: 5110 entries, 0 to 5109\n",
            "Data columns (total 12 columns):\n",
            " #   Column             Non-Null Count  Dtype  \n",
            "---  ------             --------------  -----  \n",
            " 0   id                 5110 non-null   int64  \n",
            " 1   gender             5110 non-null   int64  \n",
            " 2   age                5110 non-null   float64\n",
            " 3   hypertension       5110 non-null   int64  \n",
            " 4   heart_disease      5110 non-null   int64  \n",
            " 5   ever_married       5110 non-null   int64  \n",
            " 6   work_type          5110 non-null   int64  \n",
            " 7   Residence_type     5110 non-null   int64  \n",
            " 8   avg_glucose_level  5110 non-null   float64\n",
            " 9   bmi                5110 non-null   float64\n",
            " 10  smoking_status     5110 non-null   int64  \n",
            " 11  stroke             5110 non-null   int64  \n",
            "dtypes: float64(3), int64(9)\n",
            "memory usage: 479.2 KB\n"
          ]
        }
      ]
    },
    {
      "cell_type": "markdown",
      "source": [
        "# Scaling the dataset"
      ],
      "metadata": {
        "id": "hlvCU4g4OBEE"
      }
    },
    {
      "cell_type": "code",
      "source": [
        "list2=['id','age','work_type','avg_glucose_level','bmi','smoking_status']\n",
        "scaling=MinMaxScaler()\n",
        "for i in list2:\n",
        "  data[[i]]=scaling.fit_transform(data[[i]])"
      ],
      "metadata": {
        "id": "fcwE_fScTItP"
      },
      "execution_count": null,
      "outputs": []
    },
    {
      "cell_type": "markdown",
      "source": [
        "# Plotting the Graph using Heatmap\n"
      ],
      "metadata": {
        "id": "0fxszXCbza76"
      }
    },
    {
      "cell_type": "code",
      "source": [
        "plt.figure(figsize=(15,10))                 # plotting the heat map to see the dependency of one feature over other \n",
        "sns.heatmap(data.corr(),annot=True,fmt='.2')\n"
      ],
      "metadata": {
        "colab": {
          "base_uri": "https://localhost:8080/",
          "height": 694
        },
        "id": "T7kYUdajy3BM",
        "outputId": "5a42aa6c-1edf-49f2-ef9e-297ba5f685b2"
      },
      "execution_count": null,
      "outputs": [
        {
          "output_type": "execute_result",
          "data": {
            "text/plain": [
              "<matplotlib.axes._subplots.AxesSubplot at 0x7fa94d25a7d0>"
            ]
          },
          "metadata": {},
          "execution_count": 119
        },
        {
          "output_type": "display_data",
          "data": {
            "text/plain": [
              "<Figure size 1080x720 with 2 Axes>"
            ],
            "image/png": "[encoded data removed]"
          },
          "metadata": {
            "needs_background": "light"
          }
        }
      ]
    },
    {
      "cell_type": "code",
      "source": [
        "classifier = SelectKBest(score_func=f_classif,k=5)\n",
        "fits = classifier.fit(data.drop('stroke',axis=1),data['stroke'])\n",
        "x=pd.DataFrame(fits.scores_)\n",
        "columns = pd.DataFrame(data.drop('stroke',axis=1).columns)\n",
        "fscores = pd.concat([columns,x],axis=1)\n",
        "fscores.columns = ['Attribute','Score']\n",
        "fscores.sort_values(by='Score',ascending=False)"
      ],
      "metadata": {
        "id": "AmAuqJ1BNIuD",
        "colab": {
          "base_uri": "https://localhost:8080/",
          "height": 394
        },
        "outputId": "d9e6cc30-1d9d-49d0-bf05-b9f51ced7ccf"
      },
      "execution_count": null,
      "outputs": [
        {
          "output_type": "execute_result",
          "data": {
            "text/plain": [
              "            Attribute       Score\n",
              "2                 age  326.916568\n",
              "4       heart_disease   94.698406\n",
              "8   avg_glucose_level   90.503870\n",
              "3        hypertension   84.953542\n",
              "5        ever_married   60.667230\n",
              "9                 bmi    7.759776\n",
              "6           work_type    5.340019\n",
              "10     smoking_status    4.043033\n",
              "7      Residence_type    1.220842\n",
              "1              gender    0.407266\n",
              "0                  id    0.208459"
            ],
            "text/html": [
              "\n",
              "  <div id=\"df-9ffec9eb-13ae-4565-97f8-ab3de9c7aa6f\">\n",
              "    <div class=\"colab-df-container\">\n",
              "      <div>\n",
              "<style scoped>\n",
              "    .dataframe tbody tr th:only-of-type {\n",
              "        vertical-align: middle;\n",
              "    }\n",
              "\n",
              "    .dataframe tbody tr th {\n",
              "        vertical-align: top;\n",
              "    }\n",
              "\n",
              "    .dataframe thead th {\n",
              "        text-align: right;\n",
              "    }\n",
              "</style>\n",
              "<table border=\"1\" class=\"dataframe\">\n",
              "  <thead>\n",
              "    <tr style=\"text-align: right;\">\n",
              "      <th></th>\n",
              "      <th>Attribute</th>\n",
              "      <th>Score</th>\n",
              "    </tr>\n",
              "  </thead>\n",
              "  <tbody>\n",
              "    <tr>\n",
              "      <th>2</th>\n",
              "      <td>age</td>\n",
              "      <td>326.916568</td>\n",
              "    </tr>\n",
              "    <tr>\n",
              "      <th>4</th>\n",
              "      <td>heart_disease</td>\n",
              "      <td>94.698406</td>\n",
              "    </tr>\n",
              "    <tr>\n",
              "      <th>8</th>\n",
              "      <td>avg_glucose_level</td>\n",
              "      <td>90.503870</td>\n",
              "    </tr>\n",
              "    <tr>\n",
              "      <th>3</th>\n",
              "      <td>hypertension</td>\n",
              "      <td>84.953542</td>\n",
              "    </tr>\n",
              "    <tr>\n",
              "      <th>5</th>\n",
              "      <td>ever_married</td>\n",
              "      <td>60.667230</td>\n",
              "    </tr>\n",
              "    <tr>\n",
              "      <th>9</th>\n",
              "      <td>bmi</td>\n",
              "      <td>7.759776</td>\n",
              "    </tr>\n",
              "    <tr>\n",
              "      <th>6</th>\n",
              "      <td>work_type</td>\n",
              "      <td>5.340019</td>\n",
              "    </tr>\n",
              "    <tr>\n",
              "      <th>10</th>\n",
              "      <td>smoking_status</td>\n",
              "      <td>4.043033</td>\n",
              "    </tr>\n",
              "    <tr>\n",
              "      <th>7</th>\n",
              "      <td>Residence_type</td>\n",
              "      <td>1.220842</td>\n",
              "    </tr>\n",
              "    <tr>\n",
              "      <th>1</th>\n",
              "      <td>gender</td>\n",
              "      <td>0.407266</td>\n",
              "    </tr>\n",
              "    <tr>\n",
              "      <th>0</th>\n",
              "      <td>id</td>\n",
              "      <td>0.208459</td>\n",
              "    </tr>\n",
              "  </tbody>\n",
              "</table>\n",
              "</div>\n",
              "      <button class=\"colab-df-convert\" onclick=\"convertToInteractive('df-9ffec9eb-13ae-4565-97f8-ab3de9c7aa6f')\"\n",
              "              title=\"Convert this dataframe to an interactive table.\"\n",
              "              style=\"display:none;\">\n",
              "        \n",
              "  <svg xmlns=\"http://www.w3.org/2000/svg\" height=\"24px\"viewBox=\"0 0 24 24\"\n",
              "       width=\"24px\">\n",
              "    <path d=\"M0 0h24v24H0V0z\" fill=\"none\"/>\n",
              "    <path d=\"M18.56 5.44l.94 2.06.94-2.06 2.06-.94-2.06-.94-.94-2.06-.94 2.06-2.06.94zm-11 1L8.5 8.5l.94-2.06 2.06-.94-2.06-.94L8.5 2.5l-.94 2.06-2.06.94zm10 10l.94 2.06.94-2.06 2.06-.94-2.06-.94-.94-2.06-.94 2.06-2.06.94z\"/><path d=\"M17.41 7.96l-1.37-1.37c-.4-.4-.92-.59-1.43-.59-.52 0-1.04.2-1.43.59L10.3 9.45l-7.72 7.72c-.78.78-.78 2.05 0 2.83L4 21.41c.39.39.9.59 1.41.59.51 0 1.02-.2 1.41-.59l7.78-7.78 2.81-2.81c.8-.78.8-2.07 0-2.86zM5.41 20L4 18.59l7.72-7.72 1.47 1.35L5.41 20z\"/>\n",
              "  </svg>\n",
              "      </button>\n",
              "      \n",
              "  <style>\n",
              "    .colab-df-container {\n",
              "      display:flex;\n",
              "      flex-wrap:wrap;\n",
              "      gap: 12px;\n",
              "    }\n",
              "\n",
              "    .colab-df-convert {\n",
              "      background-color: #E8F0FE;\n",
              "      border: none;\n",
              "      border-radius: 50%;\n",
              "      cursor: pointer;\n",
              "      display: none;\n",
              "      fill: #1967D2;\n",
              "      height: 32px;\n",
              "      padding: 0 0 0 0;\n",
              "      width: 32px;\n",
              "    }\n",
              "\n",
              "    .colab-df-convert:hover {\n",
              "      background-color: #E2EBFA;\n",
              "      box-shadow: 0px 1px 2px rgba(60, 64, 67, 0.3), 0px 1px 3px 1px rgba(60, 64, 67, 0.15);\n",
              "      fill: #174EA6;\n",
              "    }\n",
              "\n",
              "    [theme=dark] .colab-df-convert {\n",
              "      background-color: #3B4455;\n",
              "      fill: #D2E3FC;\n",
              "    }\n",
              "\n",
              "    [theme=dark] .colab-df-convert:hover {\n",
              "      background-color: #434B5C;\n",
              "      box-shadow: 0px 1px 3px 1px rgba(0, 0, 0, 0.15);\n",
              "      filter: drop-shadow(0px 1px 2px rgba(0, 0, 0, 0.3));\n",
              "      fill: #FFFFFF;\n",
              "    }\n",
              "  </style>\n",
              "\n",
              "      <script>\n",
              "        const buttonEl =\n",
              "          document.querySelector('#df-9ffec9eb-13ae-4565-97f8-ab3de9c7aa6f button.colab-df-convert');\n",
              "        buttonEl.style.display =\n",
              "          google.colab.kernel.accessAllowed ? 'block' : 'none';\n",
              "\n",
              "        async function convertToInteractive(key) {\n",
              "          const element = document.querySelector('#df-9ffec9eb-13ae-4565-97f8-ab3de9c7aa6f');\n",
              "          const dataTable =\n",
              "            await google.colab.kernel.invokeFunction('convertToInteractive',\n",
              "                                                     [key], {});\n",
              "          if (!dataTable) return;\n",
              "\n",
              "          const docLinkHtml = 'Like what you see? Visit the ' +\n",
              "            '<a target=\"_blank\" href=https://colab.research.google.com/notebooks/data_table.ipynb>data table notebook</a>'\n",
              "            + ' to learn more about interactive tables.';\n",
              "          element.innerHTML = '';\n",
              "          dataTable['output_type'] = 'display_data';\n",
              "          await google.colab.output.renderOutput(dataTable, element);\n",
              "          const docLink = document.createElement('div');\n",
              "          docLink.innerHTML = docLinkHtml;\n",
              "          element.appendChild(docLink);\n",
              "        }\n",
              "      </script>\n",
              "    </div>\n",
              "  </div>\n",
              "  "
            ]
          },
          "metadata": {},
          "execution_count": 120
        }
      ]
    },
    {
      "cell_type": "code",
      "source": [
        "X=data.iloc[:,:-1]  # non- targeted data\n",
        "y=data.iloc[:,-1]   # targeted data"
      ],
      "metadata": {
        "id": "iwIBwutKQNYq"
      },
      "execution_count": null,
      "outputs": []
    },
    {
      "cell_type": "markdown",
      "source": [
        "# Let's pick 5 most popoular classifiers, train they and pick 2-3 for hyperparameter tuning:\n",
        "    1. XGB Classifier\n",
        "    2. Random Forest\n",
        "    3. KNeighborsClassifier\n",
        "    4. GradientBoostingClassifier\n",
        "    5. LGBMClassifier"
      ],
      "metadata": {
        "id": "ARfceIhB-Kv9"
      }
    },
    {
      "cell_type": "code",
      "source": [
        "def avg_score(X,y): \n",
        "  dictionary={}\n",
        "  scr_classifier=[]\n",
        "  scr_classifier.append(LogisticRegression(random_state = 3))\n",
        "  scr_classifier.append(SVC(random_state=3))  \n",
        "  scr_classifier.append(AdaBoostClassifier(DecisionTreeClassifier(random_state=3)))\n",
        "  scr_classifier.append(RandomForestClassifier(random_state=3))\n",
        "  scr_classifier.append(GradientBoostingClassifier(random_state=3))\n",
        "  scr_classifier.append(KNeighborsClassifier())\n",
        "  scr_classifier.append(XGBClassifier())\n",
        "  \n",
        " \n",
        "  for i in scr_classifier:\n",
        "    score=cross_val_score(i,X,y).mean()\n",
        "    dictionary[i]=score  \n",
        "  return dictionary   \n"
      ],
      "metadata": {
        "id": "3UY9NSjYR-5R"
      },
      "execution_count": null,
      "outputs": []
    },
    {
      "cell_type": "code",
      "source": [
        "date=avg_score(X,y)\n",
        "date"
      ],
      "metadata": {
        "colab": {
          "base_uri": "https://localhost:8080/"
        },
        "id": "JbKn2oInWX-A",
        "outputId": "6eb4a9d9-f227-411c-f171-340b5a44cc4b"
      },
      "execution_count": null,
      "outputs": [
        {
          "output_type": "execute_result",
          "data": {
            "text/plain": [
              "{AdaBoostClassifier(base_estimator=DecisionTreeClassifier(random_state=3)): 0.9027397260273974,\n",
              " GradientBoostingClassifier(random_state=3): 0.9475538160469668,\n",
              " KNeighborsClassifier(): 0.9477495107632095,\n",
              " LogisticRegression(random_state=3): 0.9514677103718199,\n",
              " RandomForestClassifier(random_state=3): 0.9493150684931507,\n",
              " SVC(random_state=3): 0.9512720156555773,\n",
              " XGBClassifier(): 0.9500978473581213}"
            ]
          },
          "metadata": {},
          "execution_count": 123
        }
      ]
    },
    {
      "cell_type": "markdown",
      "source": [
        "# Confusion Matrix"
      ],
      "metadata": {
        "id": "SdEzfu7vo5YA"
      }
    },
    {
      "cell_type": "code",
      "source": [
        "def print_confusion_matrix(confusion_matrix, class_names, figsize = (10,7), fontsize=14):\n",
        "    \"\"\"Prints a confusion matrix, as returned by sklearn.metrics.confusion_matrix, as a heatmap.\n",
        "    \n",
        "    Arguments\n",
        "    ---------\n",
        "    confusion_matrix: numpy.ndarray\n",
        "        The numpy.ndarray object returned from a call to sklearn.metrics.confusion_matrix. \n",
        "        Similarly constructed ndarrays can also be used.\n",
        "    class_names: list\n",
        "        An ordered list of class names, in the order they index the given confusion matrix.\n",
        "    figsize: tuple\n",
        "        A 2-long tuple, the first value determining the horizontal size of the ouputted figure,\n",
        "        the second determining the vertical size. Defaults to (10,7).\n",
        "    fontsize: int\n",
        "        Font size for axes labels. Defaults to 14.\n",
        "        \n",
        "    Returns\n",
        "    -------\n",
        "    matplotlib.figure.Figure\n",
        "        The resulting confusion matrix figure\n",
        "    \"\"\"\n",
        "    df_cm = pd.DataFrame(\n",
        "        confusion_matrix, index=class_names, columns=class_names, \n",
        "    )\n",
        "    fig = plt.figure(figsize=figsize)\n",
        "    try:\n",
        "        heatmap = sns.heatmap(df_cm, annot=True, fmt=\"d\")\n",
        "    except ValueError:\n",
        "        raise ValueError(\"Confusion matrix values must be integers.\")\n",
        "    heatmap.yaxis.set_ticklabels(heatmap.yaxis.get_ticklabels(), rotation=0, ha='right', fontsize=fontsize)\n",
        "    heatmap.xaxis.set_ticklabels(heatmap.xaxis.get_ticklabels(), rotation=45, ha='right', fontsize=fontsize)\n",
        "    plt.ylabel('Truth')\n",
        "    plt.xlabel('Prediction')"
      ],
      "metadata": {
        "id": "EhdpVIyso2gV"
      },
      "execution_count": null,
      "outputs": []
    },
    {
      "cell_type": "markdown",
      "source": [
        "# XGBClassifier"
      ],
      "metadata": {
        "id": "bQTKWL_sOgIH"
      }
    },
    {
      "cell_type": "code",
      "source": [
        "X_train,X_test,y_train,y_test=train_test_split(X,y,test_size=.4,random_state=3)"
      ],
      "metadata": {
        "id": "N303dMohBXgp"
      },
      "execution_count": null,
      "outputs": []
    },
    {
      "cell_type": "code",
      "source": [
        "obj=XGBClassifier(objective='binary:logistic',n_estimators=8000,max_depth=5,learning_rate=0.001,n_jobs=-1)\n",
        "obj.fit(X_train,y_train)\n",
        "pred=obj.predict(X_test)"
      ],
      "metadata": {
        "id": "QdH09RL2BzRq"
      },
      "execution_count": null,
      "outputs": []
    },
    {
      "cell_type": "code",
      "source": [
        "print(accuracy_score(pred,y_test))"
      ],
      "metadata": {
        "colab": {
          "base_uri": "https://localhost:8080/"
        },
        "id": "wWkgKXQbCfGF",
        "outputId": "69955072-7a5b-44c2-8c9b-2a0528429cc2"
      },
      "execution_count": null,
      "outputs": [
        {
          "output_type": "stream",
          "name": "stdout",
          "text": [
            "0.9408023483365949\n"
          ]
        }
      ]
    },
    {
      "cell_type": "code",
      "source": [
        "print(classification_report(y_test,pred))"
      ],
      "metadata": {
        "colab": {
          "base_uri": "https://localhost:8080/"
        },
        "id": "WdTZkSVWCs5v",
        "outputId": "a797c8de-719f-4272-a2f1-32f506577a45"
      },
      "execution_count": null,
      "outputs": [
        {
          "output_type": "stream",
          "name": "stdout",
          "text": [
            "              precision    recall  f1-score   support\n",
            "\n",
            "           0       0.95      0.99      0.97      1939\n",
            "           1       0.21      0.06      0.09       105\n",
            "\n",
            "    accuracy                           0.94      2044\n",
            "   macro avg       0.58      0.52      0.53      2044\n",
            "weighted avg       0.91      0.94      0.92      2044\n",
            "\n"
          ]
        }
      ]
    },
    {
      "cell_type": "code",
      "source": [
        "cm = confusion_matrix(y_test,pred)\n",
        "print_confusion_matrix(cm,[\"Stroke\",\"Not a stroke\"])"
      ],
      "metadata": {
        "colab": {
          "base_uri": "https://localhost:8080/",
          "height": 503
        },
        "id": "SGi_ECwnGH0s",
        "outputId": "4d625d7b-dfdb-4301-f3b1-34d2403b087c"
      },
      "execution_count": null,
      "outputs": [
        {
          "output_type": "display_data",
          "data": {
            "text/plain": [
              "<Figure size 720x504 with 2 Axes>"
            ],
            "image/png": "[encoded data removed]"
          },
          "metadata": {
            "needs_background": "light"
          }
        }
      ]
    },
    {
      "cell_type": "markdown",
      "source": [
        "# RandomForestClassifier"
      ],
      "metadata": {
        "id": "m1DbwxN3YErH"
      }
    },
    {
      "cell_type": "code",
      "source": [
        "parameters = {'n_estimators': [160,180,200,220], 'max_depth':[16,18,20,22,24]}\n",
        "rf = RandomForestClassifier()\n",
        "clf = GridSearchCV(rf, parameters)\n",
        "clf.fit(X_train, y_train)\n",
        "\n"
      ],
      "metadata": {
        "colab": {
          "base_uri": "https://localhost:8080/"
        },
        "id": "w9S67vBrZ_8z",
        "outputId": "dac9cc31-33e4-43d7-b56f-7830b7d9c03d"
      },
      "execution_count": null,
      "outputs": [
        {
          "output_type": "execute_result",
          "data": {
            "text/plain": [
              "GridSearchCV(estimator=RandomForestClassifier(),\n",
              "             param_grid={'max_depth': [16, 18, 20, 22, 24],\n",
              "                         'n_estimators': [160, 180, 200, 220]})"
            ]
          },
          "metadata": {},
          "execution_count": 132
        }
      ]
    },
    {
      "cell_type": "code",
      "source": [
        "print(f'Best Hyperparameters: {clf.best_params_}')"
      ],
      "metadata": {
        "colab": {
          "base_uri": "https://localhost:8080/"
        },
        "id": "R6U9Y91IbhLt",
        "outputId": "e247f711-e962-4440-fe74-80f66bcc11cc"
      },
      "execution_count": null,
      "outputs": [
        {
          "output_type": "stream",
          "name": "stdout",
          "text": [
            "Best Hyperparameters: {'max_depth': 22, 'n_estimators': 180}\n"
          ]
        }
      ]
    },
    {
      "cell_type": "code",
      "source": [
        "y_predi=clf.predict(X_test)"
      ],
      "metadata": {
        "id": "jhOVHnHrabQG"
      },
      "execution_count": null,
      "outputs": []
    },
    {
      "cell_type": "code",
      "source": [
        "print(accuracy_score(y_test,y_predi))"
      ],
      "metadata": {
        "colab": {
          "base_uri": "https://localhost:8080/"
        },
        "id": "MzFj_7GKarqC",
        "outputId": "5c7c03fb-8f16-4898-caf2-1de36eb69a41"
      },
      "execution_count": null,
      "outputs": [
        {
          "output_type": "stream",
          "name": "stdout",
          "text": [
            "0.9476516634050881\n"
          ]
        }
      ]
    },
    {
      "cell_type": "code",
      "source": [
        "print(classification_report(y_test,y_predi))"
      ],
      "metadata": {
        "colab": {
          "base_uri": "https://localhost:8080/"
        },
        "id": "pxW9VYoobORW",
        "outputId": "27bfa59e-b34f-4d33-de84-0f59a58726a7"
      },
      "execution_count": null,
      "outputs": [
        {
          "output_type": "stream",
          "name": "stdout",
          "text": [
            "              precision    recall  f1-score   support\n",
            "\n",
            "           0       0.95      1.00      0.97      1939\n",
            "           1       0.00      0.00      0.00       105\n",
            "\n",
            "    accuracy                           0.95      2044\n",
            "   macro avg       0.47      0.50      0.49      2044\n",
            "weighted avg       0.90      0.95      0.92      2044\n",
            "\n"
          ]
        }
      ]
    },
    {
      "cell_type": "code",
      "source": [
        "cm = confusion_matrix(y_test,y_predi)\n",
        "print_confusion_matrix(cm,[\"Stroke\",\"Not a stroke\"])"
      ],
      "metadata": {
        "colab": {
          "base_uri": "https://localhost:8080/",
          "height": 503
        },
        "id": "L_JhtVCrdAEr",
        "outputId": "c5056099-e39f-4c51-b4fd-83260d1608f0"
      },
      "execution_count": null,
      "outputs": [
        {
          "output_type": "display_data",
          "data": {
            "text/plain": [
              "<Figure size 720x504 with 2 Axes>"
            ],
            "image/png": "[encoded data removed]"
          },
          "metadata": {
            "needs_background": "light"
          }
        }
      ]
    },
    {
      "cell_type": "markdown",
      "source": [
        ""
      ],
      "metadata": {
        "id": "0px0pu6Mdcnk"
      }
    },
    {
      "cell_type": "markdown",
      "source": [
        "# KneighborsClassifer"
      ],
      "metadata": {
        "id": "q7C1At0qdd6F"
      }
    },
    {
      "cell_type": "code",
      "source": [
        "parameters = {'n_neighbors': [5,10,15,20]}\n",
        "K_model = KNeighborsClassifier()\n",
        "clf = GridSearchCV(K_model, parameters)\n",
        "clf.fit(X_train, y_train)\n",
        "print(f'Best Hyperparameters: {clf.best_params_}')\n"
      ],
      "metadata": {
        "colab": {
          "base_uri": "https://localhost:8080/"
        },
        "id": "4UwpoOn5dOty",
        "outputId": "8ce13706-35b5-43c1-c551-2b464bb115f6"
      },
      "execution_count": null,
      "outputs": [
        {
          "output_type": "stream",
          "name": "stdout",
          "text": [
            "Best Hyperparameters: {'n_neighbors': 15}\n"
          ]
        }
      ]
    },
    {
      "cell_type": "code",
      "source": [
        "y_prede=clf.predict(X_test)"
      ],
      "metadata": {
        "id": "EzvbiNJgeGZJ"
      },
      "execution_count": null,
      "outputs": []
    },
    {
      "cell_type": "code",
      "source": [
        "print(accuracy_score(y_test,y_prede))"
      ],
      "metadata": {
        "colab": {
          "base_uri": "https://localhost:8080/"
        },
        "id": "W44FWL6meJhM",
        "outputId": "4ded1682-8e41-4464-fbe4-e2f01d39c275"
      },
      "execution_count": null,
      "outputs": [
        {
          "output_type": "stream",
          "name": "stdout",
          "text": [
            "0.9486301369863014\n"
          ]
        }
      ]
    },
    {
      "cell_type": "code",
      "source": [
        "print(classification_report(y_test,y_prede))"
      ],
      "metadata": {
        "colab": {
          "base_uri": "https://localhost:8080/"
        },
        "id": "-lI7U6Szeln-",
        "outputId": "ba8c0044-5e63-4e21-a386-5645de888691"
      },
      "execution_count": null,
      "outputs": [
        {
          "output_type": "stream",
          "name": "stdout",
          "text": [
            "              precision    recall  f1-score   support\n",
            "\n",
            "           0       0.95      1.00      0.97      1939\n",
            "           1       0.00      0.00      0.00       105\n",
            "\n",
            "    accuracy                           0.95      2044\n",
            "   macro avg       0.47      0.50      0.49      2044\n",
            "weighted avg       0.90      0.95      0.92      2044\n",
            "\n"
          ]
        },
        {
          "output_type": "stream",
          "name": "stderr",
          "text": [
            "/usr/local/lib/python3.7/dist-packages/sklearn/metrics/_classification.py:1318: UndefinedMetricWarning: Precision and F-score are ill-defined and being set to 0.0 in labels with no predicted samples. Use `zero_division` parameter to control this behavior.\n",
            "  _warn_prf(average, modifier, msg_start, len(result))\n",
            "/usr/local/lib/python3.7/dist-packages/sklearn/metrics/_classification.py:1318: UndefinedMetricWarning: Precision and F-score are ill-defined and being set to 0.0 in labels with no predicted samples. Use `zero_division` parameter to control this behavior.\n",
            "  _warn_prf(average, modifier, msg_start, len(result))\n",
            "/usr/local/lib/python3.7/dist-packages/sklearn/metrics/_classification.py:1318: UndefinedMetricWarning: Precision and F-score are ill-defined and being set to 0.0 in labels with no predicted samples. Use `zero_division` parameter to control this behavior.\n",
            "  _warn_prf(average, modifier, msg_start, len(result))\n"
          ]
        }
      ]
    },
    {
      "cell_type": "code",
      "source": [
        "cm = confusion_matrix(y_test,y_prede)\n",
        "print_confusion_matrix(cm,[\"Stroke\",\"Not a stroke\"])"
      ],
      "metadata": {
        "colab": {
          "base_uri": "https://localhost:8080/",
          "height": 503
        },
        "id": "Uy5OxGUle4Re",
        "outputId": "26d357dd-8ee0-4b24-d8d4-f1bdd43241a6"
      },
      "execution_count": null,
      "outputs": [
        {
          "output_type": "display_data",
          "data": {
            "text/plain": [
              "<Figure size 720x504 with 2 Axes>"
            ],
            "image/png": "[encoded data removed]"
          },
          "metadata": {
            "needs_background": "light"
          }
        }
      ]
    },
    {
      "cell_type": "markdown",
      "source": [
        "#Gradient Boosting Classifier"
      ],
      "metadata": {
        "id": "75SK9grrVnJ_"
      }
    },
    {
      "cell_type": "code",
      "source": [
        "from sklearn.ensemble import GradientBoostingClassifier"
      ],
      "metadata": {
        "id": "jDEbbhkwVuIK"
      },
      "execution_count": null,
      "outputs": []
    },
    {
      "cell_type": "code",
      "source": [
        "parameter = {\n",
        "    \"n_estimators\":[5,50,250,500],\n",
        "    \"max_depth\":[1,3,5,7,9],\n",
        "    \"learning_rate\":[0.01,0.1,1,10,100]\n",
        "}\n",
        "clf=GradientBoostingClassifier()\n",
        "clf = GridSearchCV(clf, parameter)\n",
        "clf.fit(X_train, y_train)\n",
        "print(f'Best Hyperparameters: {clf.best_params_}')"
      ],
      "metadata": {
        "colab": {
          "base_uri": "https://localhost:8080/"
        },
        "id": "C6EoAvHkWgRr",
        "outputId": "9703fa0a-0341-4d84-e001-75c3c3d5c827"
      },
      "execution_count": null,
      "outputs": [
        {
          "output_type": "stream",
          "name": "stdout",
          "text": [
            "Best Hyperparameters: {'learning_rate': 0.01, 'max_depth': 1, 'n_estimators': 5}\n"
          ]
        }
      ]
    },
    {
      "cell_type": "code",
      "source": [
        "predi=clf.predict(X_test)"
      ],
      "metadata": {
        "id": "tkA4q5xyX8dX"
      },
      "execution_count": null,
      "outputs": []
    },
    {
      "cell_type": "code",
      "source": [
        "print(accuracy_score(y_test,predi))"
      ],
      "metadata": {
        "colab": {
          "base_uri": "https://localhost:8080/"
        },
        "id": "Ak0LwtlsX2iL",
        "outputId": "93a8f24b-e87a-4ea4-c042-fd428d91ecc1"
      },
      "execution_count": null,
      "outputs": [
        {
          "output_type": "stream",
          "name": "stdout",
          "text": [
            "0.9486301369863014\n"
          ]
        }
      ]
    },
    {
      "cell_type": "code",
      "source": [
        "print(classification_report(y_test,predi))"
      ],
      "metadata": {
        "colab": {
          "base_uri": "https://localhost:8080/"
        },
        "id": "lhwx5ZodYKsb",
        "outputId": "b34ddfae-ded7-4a71-8f1d-a6c36585667d"
      },
      "execution_count": null,
      "outputs": [
        {
          "output_type": "stream",
          "name": "stdout",
          "text": [
            "              precision    recall  f1-score   support\n",
            "\n",
            "           0       0.95      1.00      0.97      1939\n",
            "           1       0.00      0.00      0.00       105\n",
            "\n",
            "    accuracy                           0.95      2044\n",
            "   macro avg       0.47      0.50      0.49      2044\n",
            "weighted avg       0.90      0.95      0.92      2044\n",
            "\n"
          ]
        },
        {
          "output_type": "stream",
          "name": "stderr",
          "text": [
            "/usr/local/lib/python3.7/dist-packages/sklearn/metrics/_classification.py:1318: UndefinedMetricWarning: Precision and F-score are ill-defined and being set to 0.0 in labels with no predicted samples. Use `zero_division` parameter to control this behavior.\n",
            "  _warn_prf(average, modifier, msg_start, len(result))\n",
            "/usr/local/lib/python3.7/dist-packages/sklearn/metrics/_classification.py:1318: UndefinedMetricWarning: Precision and F-score are ill-defined and being set to 0.0 in labels with no predicted samples. Use `zero_division` parameter to control this behavior.\n",
            "  _warn_prf(average, modifier, msg_start, len(result))\n",
            "/usr/local/lib/python3.7/dist-packages/sklearn/metrics/_classification.py:1318: UndefinedMetricWarning: Precision and F-score are ill-defined and being set to 0.0 in labels with no predicted samples. Use `zero_division` parameter to control this behavior.\n",
            "  _warn_prf(average, modifier, msg_start, len(result))\n"
          ]
        }
      ]
    },
    {
      "cell_type": "code",
      "source": [
        "cm = confusion_matrix(y_test,predi)\n",
        "print_confusion_matrix(cm,[\"Stroke\",\"Not a stroke\"])"
      ],
      "metadata": {
        "colab": {
          "base_uri": "https://localhost:8080/",
          "height": 503
        },
        "id": "dv3sdXbOYlsT",
        "outputId": "c271a27e-33c8-4c01-cfc5-31234879f58b"
      },
      "execution_count": null,
      "outputs": [
        {
          "output_type": "display_data",
          "data": {
            "text/plain": [
              "<Figure size 720x504 with 2 Axes>"
            ],
            "image/png": "[encoded data removed]"
          },
          "metadata": {
            "needs_background": "light"
          }
        }
      ]
    },
    {
      "cell_type": "markdown",
      "source": [
        ""
      ],
      "metadata": {
        "id": "4FY4kcQNmoPA"
      }
    },
    {
      "cell_type": "markdown",
      "source": [
        "#Light GBM Classifier"
      ],
      "metadata": {
        "id": "bGnt3NM1Yujq"
      }
    },
    {
      "cell_type": "code",
      "source": [
        "params={'learning_rate': (0.01, 1.0),\n",
        "                                            'num_leaves': (24, 80),\n",
        "                                            'feature_fraction': (0.1, 0.9),\n",
        "                                            'bagging_fraction': (0.8, 1),\n",
        "                                            'max_depth': (5, 30),\n",
        "                                            'max_bin':(20,90),\n",
        "                                            'min_data_in_leaf': (20, 80),\n",
        "                                            'min_sum_hessian_in_leaf':(0,100),\n",
        "                                           'subsample': (0.01, 1.0)}\n",
        "clf=LGBMClassifier()\n",
        "clf=GridSearchCV(clf,params)\n",
        "clf.fit(X_train,y_train)\n",
        "print(f'Best Hyperparameters: {clf.best_params_}')"
      ],
      "metadata": {
        "colab": {
          "base_uri": "https://localhost:8080/"
        },
        "id": "YrBkOPceZTJU",
        "outputId": "667cd5db-f492-46bb-bc4a-cddacdd59da6"
      },
      "execution_count": null,
      "outputs": [
        {
          "output_type": "stream",
          "name": "stdout",
          "text": [
            "Best Hyperparameters: {'bagging_fraction': 0.8, 'feature_fraction': 0.1, 'learning_rate': 0.01, 'max_bin': 20, 'max_depth': 5, 'min_data_in_leaf': 20, 'min_sum_hessian_in_leaf': 0, 'num_leaves': 24, 'subsample': 0.01}\n"
          ]
        }
      ]
    },
    {
      "cell_type": "code",
      "source": [
        "prid=clf.predict(X_test)"
      ],
      "metadata": {
        "id": "5iAWVrdmcncC"
      },
      "execution_count": null,
      "outputs": []
    },
    {
      "cell_type": "code",
      "source": [
        "print(accuracy_score(y_test,prid))"
      ],
      "metadata": {
        "colab": {
          "base_uri": "https://localhost:8080/"
        },
        "id": "lLIVoU-ncuw4",
        "outputId": "2da79dde-c55e-4712-eca9-a3d2c65d56a9"
      },
      "execution_count": null,
      "outputs": [
        {
          "output_type": "stream",
          "name": "stdout",
          "text": [
            "0.9486301369863014\n"
          ]
        }
      ]
    },
    {
      "cell_type": "code",
      "source": [
        "print(classification_report(y_test,prid))"
      ],
      "metadata": {
        "colab": {
          "base_uri": "https://localhost:8080/"
        },
        "id": "uLPkIFHcc2AI",
        "outputId": "4fe2ba01-44e0-4bef-cca3-b1f0f89533ee"
      },
      "execution_count": null,
      "outputs": [
        {
          "output_type": "stream",
          "name": "stdout",
          "text": [
            "              precision    recall  f1-score   support\n",
            "\n",
            "           0       0.95      1.00      0.97      1939\n",
            "           1       0.00      0.00      0.00       105\n",
            "\n",
            "    accuracy                           0.95      2044\n",
            "   macro avg       0.47      0.50      0.49      2044\n",
            "weighted avg       0.90      0.95      0.92      2044\n",
            "\n"
          ]
        },
        {
          "output_type": "stream",
          "name": "stderr",
          "text": [
            "/usr/local/lib/python3.7/dist-packages/sklearn/metrics/_classification.py:1318: UndefinedMetricWarning: Precision and F-score are ill-defined and being set to 0.0 in labels with no predicted samples. Use `zero_division` parameter to control this behavior.\n",
            "  _warn_prf(average, modifier, msg_start, len(result))\n",
            "/usr/local/lib/python3.7/dist-packages/sklearn/metrics/_classification.py:1318: UndefinedMetricWarning: Precision and F-score are ill-defined and being set to 0.0 in labels with no predicted samples. Use `zero_division` parameter to control this behavior.\n",
            "  _warn_prf(average, modifier, msg_start, len(result))\n",
            "/usr/local/lib/python3.7/dist-packages/sklearn/metrics/_classification.py:1318: UndefinedMetricWarning: Precision and F-score are ill-defined and being set to 0.0 in labels with no predicted samples. Use `zero_division` parameter to control this behavior.\n",
            "  _warn_prf(average, modifier, msg_start, len(result))\n"
          ]
        }
      ]
    },
    {
      "cell_type": "code",
      "source": [
        "cm = confusion_matrix(y_test,prid)\n",
        "print_confusion_matrix(cm,[\"Stroke\",\"Not a stroke\"])"
      ],
      "metadata": {
        "colab": {
          "base_uri": "https://localhost:8080/",
          "height": 503
        },
        "id": "tcQ0HBx8c7Rp",
        "outputId": "cbe4bb87-5886-4952-9795-25c94dc20144"
      },
      "execution_count": null,
      "outputs": [
        {
          "output_type": "display_data",
          "data": {
            "text/plain": [
              "<Figure size 720x504 with 2 Axes>"
            ],
            "image/png": "[encoded data removed]"
          },
          "metadata": {
            "needs_background": "light"
          }
        }
      ]
    }
  ]
}